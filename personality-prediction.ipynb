{
 "cells": [
  {
   "cell_type": "code",
   "execution_count": 1,
   "id": "eb2b8e43",
   "metadata": {
    "execution": {
     "iopub.execute_input": "2025-07-30T13:10:08.093187Z",
     "iopub.status.busy": "2025-07-30T13:10:08.092866Z",
     "iopub.status.idle": "2025-07-30T13:10:19.089236Z",
     "shell.execute_reply": "2025-07-30T13:10:19.088069Z"
    },
    "papermill": {
     "duration": 11.006997,
     "end_time": "2025-07-30T13:10:19.091174",
     "exception": false,
     "start_time": "2025-07-30T13:10:08.084177",
     "status": "completed"
    },
    "tags": []
   },
   "outputs": [
    {
     "name": "stdout",
     "output_type": "stream",
     "text": [
      "Found existing installation: scikit-learn 1.2.2\r\n",
      "Uninstalling scikit-learn-1.2.2:\r\n",
      "  Successfully uninstalled scikit-learn-1.2.2\r\n",
      "Found existing installation: imbalanced-learn 0.13.0\r\n",
      "Uninstalling imbalanced-learn-0.13.0:\r\n",
      "  Successfully uninstalled imbalanced-learn-0.13.0\r\n",
      "Collecting scikit-learn==1.3.2\r\n",
      "  Downloading scikit_learn-1.3.2-cp311-cp311-manylinux_2_17_x86_64.manylinux2014_x86_64.whl.metadata (11 kB)\r\n",
      "Collecting imbalanced-learn==0.11.0\r\n",
      "  Downloading imbalanced_learn-0.11.0-py3-none-any.whl.metadata (8.3 kB)\r\n",
      "Requirement already satisfied: numpy<2.0,>=1.17.3 in /usr/local/lib/python3.11/dist-packages (from scikit-learn==1.3.2) (1.26.4)\r\n",
      "Requirement already satisfied: scipy>=1.5.0 in /usr/local/lib/python3.11/dist-packages (from scikit-learn==1.3.2) (1.15.3)\r\n",
      "Requirement already satisfied: joblib>=1.1.1 in /usr/local/lib/python3.11/dist-packages (from scikit-learn==1.3.2) (1.5.1)\r\n",
      "Requirement already satisfied: threadpoolctl>=2.0.0 in /usr/local/lib/python3.11/dist-packages (from scikit-learn==1.3.2) (3.6.0)\r\n",
      "Requirement already satisfied: mkl_fft in /usr/local/lib/python3.11/dist-packages (from numpy<2.0,>=1.17.3->scikit-learn==1.3.2) (1.3.8)\r\n",
      "Requirement already satisfied: mkl_random in /usr/local/lib/python3.11/dist-packages (from numpy<2.0,>=1.17.3->scikit-learn==1.3.2) (1.2.4)\r\n",
      "Requirement already satisfied: mkl_umath in /usr/local/lib/python3.11/dist-packages (from numpy<2.0,>=1.17.3->scikit-learn==1.3.2) (0.1.1)\r\n",
      "Requirement already satisfied: mkl in /usr/local/lib/python3.11/dist-packages (from numpy<2.0,>=1.17.3->scikit-learn==1.3.2) (2025.2.0)\r\n",
      "Requirement already satisfied: tbb4py in /usr/local/lib/python3.11/dist-packages (from numpy<2.0,>=1.17.3->scikit-learn==1.3.2) (2022.2.0)\r\n",
      "Requirement already satisfied: mkl-service in /usr/local/lib/python3.11/dist-packages (from numpy<2.0,>=1.17.3->scikit-learn==1.3.2) (2.4.1)\r\n",
      "Requirement already satisfied: intel-openmp<2026,>=2024 in /usr/local/lib/python3.11/dist-packages (from mkl->numpy<2.0,>=1.17.3->scikit-learn==1.3.2) (2024.2.0)\r\n",
      "Requirement already satisfied: tbb==2022.* in /usr/local/lib/python3.11/dist-packages (from mkl->numpy<2.0,>=1.17.3->scikit-learn==1.3.2) (2022.2.0)\r\n",
      "Requirement already satisfied: tcmlib==1.* in /usr/local/lib/python3.11/dist-packages (from tbb==2022.*->mkl->numpy<2.0,>=1.17.3->scikit-learn==1.3.2) (1.4.0)\r\n",
      "Requirement already satisfied: intel-cmplr-lib-rt in /usr/local/lib/python3.11/dist-packages (from mkl_umath->numpy<2.0,>=1.17.3->scikit-learn==1.3.2) (2024.2.0)\r\n",
      "Requirement already satisfied: intel-cmplr-lib-ur==2024.2.0 in /usr/local/lib/python3.11/dist-packages (from intel-openmp<2026,>=2024->mkl->numpy<2.0,>=1.17.3->scikit-learn==1.3.2) (2024.2.0)\r\n",
      "Downloading scikit_learn-1.3.2-cp311-cp311-manylinux_2_17_x86_64.manylinux2014_x86_64.whl (10.9 MB)\r\n",
      "\u001b[2K   \u001b[90m━━━━━━━━━━━━━━━━━━━━━━━━━━━━━━━━━━━━━━━━\u001b[0m \u001b[32m10.9/10.9 MB\u001b[0m \u001b[31m223.6 MB/s\u001b[0m eta \u001b[36m0:00:00\u001b[0m\r\n",
      "\u001b[?25hDownloading imbalanced_learn-0.11.0-py3-none-any.whl (235 kB)\r\n",
      "\u001b[2K   \u001b[90m━━━━━━━━━━━━━━━━━━━━━━━━━━━━━━━━━━━━━━━\u001b[0m \u001b[32m235.6/235.6 kB\u001b[0m \u001b[31m297.3 MB/s\u001b[0m eta \u001b[36m0:00:00\u001b[0m\r\n",
      "\u001b[?25hInstalling collected packages: scikit-learn, imbalanced-learn\r\n",
      "\u001b[31mERROR: pip's dependency resolver does not currently take into account all the packages that are installed. This behaviour is the source of the following dependency conflicts.\r\n",
      "cesium 0.12.4 requires numpy<3.0,>=2.0, but you have numpy 1.26.4 which is incompatible.\u001b[0m\u001b[31m\r\n",
      "\u001b[0mSuccessfully installed imbalanced-learn-0.11.0 scikit-learn-1.3.2\r\n"
     ]
    }
   ],
   "source": [
    "!pip uninstall -y scikit-learn imbalanced-learn\n",
    "!pip install --no-cache-dir scikit-learn==1.3.2 imbalanced-learn==0.11.0"
   ]
  },
  {
   "cell_type": "code",
   "execution_count": 2,
   "id": "1fed5d95",
   "metadata": {
    "execution": {
     "iopub.execute_input": "2025-07-30T13:10:19.107424Z",
     "iopub.status.busy": "2025-07-30T13:10:19.107114Z",
     "iopub.status.idle": "2025-07-30T13:10:28.108262Z",
     "shell.execute_reply": "2025-07-30T13:10:28.107321Z"
    },
    "papermill": {
     "duration": 9.011161,
     "end_time": "2025-07-30T13:10:28.110039",
     "exception": false,
     "start_time": "2025-07-30T13:10:19.098878",
     "status": "completed"
    },
    "tags": []
   },
   "outputs": [],
   "source": [
    "import pandas as pd\n",
    "import numpy as np\n",
    "import matplotlib.pyplot as plt\n",
    "import seaborn as sns\n",
    "from sklearn.metrics import accuracy_score, classification_report, confusion_matrix\n",
    "import joblib\n",
    "from sklearn.linear_model import LinearRegression\n",
    "from sklearn.ensemble import RandomForestClassifier\n",
    "from catboost import CatBoostClassifier\n",
    "from lightgbm import LGBMClassifier\n",
    "from xgboost import XGBClassifier\n",
    "from sklearn.preprocessing import LabelEncoder\n",
    "from imblearn.over_sampling import SMOTE\n",
    "from sklearn.model_selection import train_test_split"
   ]
  },
  {
   "cell_type": "code",
   "execution_count": 3,
   "id": "b59005b2",
   "metadata": {
    "execution": {
     "iopub.execute_input": "2025-07-30T13:10:28.126598Z",
     "iopub.status.busy": "2025-07-30T13:10:28.125784Z",
     "iopub.status.idle": "2025-07-30T13:10:28.380236Z",
     "shell.execute_reply": "2025-07-30T13:10:28.379271Z"
    },
    "papermill": {
     "duration": 0.264771,
     "end_time": "2025-07-30T13:10:28.382088",
     "exception": false,
     "start_time": "2025-07-30T13:10:28.117317",
     "status": "completed"
    },
    "tags": []
   },
   "outputs": [],
   "source": [
    "df=pd.read_csv('https://raw.githubusercontent.com/Jan2309jr/Personality-Prediction/refs/heads/main/Dataset/train.csv')"
   ]
  },
  {
   "cell_type": "code",
   "execution_count": 4,
   "id": "d63612ff",
   "metadata": {
    "execution": {
     "iopub.execute_input": "2025-07-30T13:10:28.399031Z",
     "iopub.status.busy": "2025-07-30T13:10:28.398662Z",
     "iopub.status.idle": "2025-07-30T13:10:28.432397Z",
     "shell.execute_reply": "2025-07-30T13:10:28.431356Z"
    },
    "papermill": {
     "duration": 0.04327,
     "end_time": "2025-07-30T13:10:28.433957",
     "exception": false,
     "start_time": "2025-07-30T13:10:28.390687",
     "status": "completed"
    },
    "tags": []
   },
   "outputs": [
    {
     "name": "stderr",
     "output_type": "stream",
     "text": [
      "/usr/local/lib/python3.11/dist-packages/pandas/io/formats/format.py:1458: RuntimeWarning: invalid value encountered in greater\n",
      "  has_large_values = (abs_vals > 1e6).any()\n",
      "/usr/local/lib/python3.11/dist-packages/pandas/io/formats/format.py:1459: RuntimeWarning: invalid value encountered in less\n",
      "  has_small_values = ((abs_vals < 10 ** (-self.digits)) & (abs_vals > 0)).any()\n",
      "/usr/local/lib/python3.11/dist-packages/pandas/io/formats/format.py:1459: RuntimeWarning: invalid value encountered in greater\n",
      "  has_small_values = ((abs_vals < 10 ** (-self.digits)) & (abs_vals > 0)).any()\n"
     ]
    },
    {
     "data": {
      "text/html": [
       "<div>\n",
       "<style scoped>\n",
       "    .dataframe tbody tr th:only-of-type {\n",
       "        vertical-align: middle;\n",
       "    }\n",
       "\n",
       "    .dataframe tbody tr th {\n",
       "        vertical-align: top;\n",
       "    }\n",
       "\n",
       "    .dataframe thead th {\n",
       "        text-align: right;\n",
       "    }\n",
       "</style>\n",
       "<table border=\"1\" class=\"dataframe\">\n",
       "  <thead>\n",
       "    <tr style=\"text-align: right;\">\n",
       "      <th></th>\n",
       "      <th>id</th>\n",
       "      <th>Time_spent_Alone</th>\n",
       "      <th>Stage_fear</th>\n",
       "      <th>Social_event_attendance</th>\n",
       "      <th>Going_outside</th>\n",
       "      <th>Drained_after_socializing</th>\n",
       "      <th>Friends_circle_size</th>\n",
       "      <th>Post_frequency</th>\n",
       "      <th>Personality</th>\n",
       "    </tr>\n",
       "  </thead>\n",
       "  <tbody>\n",
       "    <tr>\n",
       "      <th>0</th>\n",
       "      <td>0</td>\n",
       "      <td>0.0</td>\n",
       "      <td>No</td>\n",
       "      <td>6.0</td>\n",
       "      <td>4.0</td>\n",
       "      <td>No</td>\n",
       "      <td>15.0</td>\n",
       "      <td>5.0</td>\n",
       "      <td>Extrovert</td>\n",
       "    </tr>\n",
       "    <tr>\n",
       "      <th>1</th>\n",
       "      <td>1</td>\n",
       "      <td>1.0</td>\n",
       "      <td>No</td>\n",
       "      <td>7.0</td>\n",
       "      <td>3.0</td>\n",
       "      <td>No</td>\n",
       "      <td>10.0</td>\n",
       "      <td>8.0</td>\n",
       "      <td>Extrovert</td>\n",
       "    </tr>\n",
       "    <tr>\n",
       "      <th>2</th>\n",
       "      <td>2</td>\n",
       "      <td>6.0</td>\n",
       "      <td>Yes</td>\n",
       "      <td>1.0</td>\n",
       "      <td>0.0</td>\n",
       "      <td>NaN</td>\n",
       "      <td>3.0</td>\n",
       "      <td>0.0</td>\n",
       "      <td>Introvert</td>\n",
       "    </tr>\n",
       "    <tr>\n",
       "      <th>3</th>\n",
       "      <td>3</td>\n",
       "      <td>3.0</td>\n",
       "      <td>No</td>\n",
       "      <td>7.0</td>\n",
       "      <td>3.0</td>\n",
       "      <td>No</td>\n",
       "      <td>11.0</td>\n",
       "      <td>5.0</td>\n",
       "      <td>Extrovert</td>\n",
       "    </tr>\n",
       "    <tr>\n",
       "      <th>4</th>\n",
       "      <td>4</td>\n",
       "      <td>1.0</td>\n",
       "      <td>No</td>\n",
       "      <td>4.0</td>\n",
       "      <td>4.0</td>\n",
       "      <td>No</td>\n",
       "      <td>13.0</td>\n",
       "      <td>NaN</td>\n",
       "      <td>Extrovert</td>\n",
       "    </tr>\n",
       "    <tr>\n",
       "      <th>5</th>\n",
       "      <td>5</td>\n",
       "      <td>2.0</td>\n",
       "      <td>No</td>\n",
       "      <td>8.0</td>\n",
       "      <td>5.0</td>\n",
       "      <td>No</td>\n",
       "      <td>NaN</td>\n",
       "      <td>3.0</td>\n",
       "      <td>Extrovert</td>\n",
       "    </tr>\n",
       "    <tr>\n",
       "      <th>6</th>\n",
       "      <td>6</td>\n",
       "      <td>1.0</td>\n",
       "      <td>No</td>\n",
       "      <td>8.0</td>\n",
       "      <td>NaN</td>\n",
       "      <td>No</td>\n",
       "      <td>NaN</td>\n",
       "      <td>4.0</td>\n",
       "      <td>Extrovert</td>\n",
       "    </tr>\n",
       "    <tr>\n",
       "      <th>7</th>\n",
       "      <td>7</td>\n",
       "      <td>2.0</td>\n",
       "      <td>No</td>\n",
       "      <td>8.0</td>\n",
       "      <td>3.0</td>\n",
       "      <td>No</td>\n",
       "      <td>4.0</td>\n",
       "      <td>5.0</td>\n",
       "      <td>Extrovert</td>\n",
       "    </tr>\n",
       "    <tr>\n",
       "      <th>8</th>\n",
       "      <td>8</td>\n",
       "      <td>4.0</td>\n",
       "      <td>Yes</td>\n",
       "      <td>2.0</td>\n",
       "      <td>1.0</td>\n",
       "      <td>NaN</td>\n",
       "      <td>0.0</td>\n",
       "      <td>2.0</td>\n",
       "      <td>Introvert</td>\n",
       "    </tr>\n",
       "    <tr>\n",
       "      <th>9</th>\n",
       "      <td>9</td>\n",
       "      <td>1.0</td>\n",
       "      <td>No</td>\n",
       "      <td>8.0</td>\n",
       "      <td>6.0</td>\n",
       "      <td>No</td>\n",
       "      <td>14.0</td>\n",
       "      <td>9.0</td>\n",
       "      <td>Extrovert</td>\n",
       "    </tr>\n",
       "  </tbody>\n",
       "</table>\n",
       "</div>"
      ],
      "text/plain": [
       "   id  Time_spent_Alone Stage_fear  Social_event_attendance  Going_outside  \\\n",
       "0   0               0.0         No                      6.0            4.0   \n",
       "1   1               1.0         No                      7.0            3.0   \n",
       "2   2               6.0        Yes                      1.0            0.0   \n",
       "3   3               3.0         No                      7.0            3.0   \n",
       "4   4               1.0         No                      4.0            4.0   \n",
       "5   5               2.0         No                      8.0            5.0   \n",
       "6   6               1.0         No                      8.0            NaN   \n",
       "7   7               2.0         No                      8.0            3.0   \n",
       "8   8               4.0        Yes                      2.0            1.0   \n",
       "9   9               1.0         No                      8.0            6.0   \n",
       "\n",
       "  Drained_after_socializing  Friends_circle_size  Post_frequency Personality  \n",
       "0                        No                 15.0             5.0   Extrovert  \n",
       "1                        No                 10.0             8.0   Extrovert  \n",
       "2                       NaN                  3.0             0.0   Introvert  \n",
       "3                        No                 11.0             5.0   Extrovert  \n",
       "4                        No                 13.0             NaN   Extrovert  \n",
       "5                        No                  NaN             3.0   Extrovert  \n",
       "6                        No                  NaN             4.0   Extrovert  \n",
       "7                        No                  4.0             5.0   Extrovert  \n",
       "8                       NaN                  0.0             2.0   Introvert  \n",
       "9                        No                 14.0             9.0   Extrovert  "
      ]
     },
     "execution_count": 4,
     "metadata": {},
     "output_type": "execute_result"
    }
   ],
   "source": [
    "df.head(10)"
   ]
  },
  {
   "cell_type": "code",
   "execution_count": 5,
   "id": "c59a2fcf",
   "metadata": {
    "execution": {
     "iopub.execute_input": "2025-07-30T13:10:28.450171Z",
     "iopub.status.busy": "2025-07-30T13:10:28.449856Z",
     "iopub.status.idle": "2025-07-30T13:10:28.455599Z",
     "shell.execute_reply": "2025-07-30T13:10:28.454628Z"
    },
    "papermill": {
     "duration": 0.015498,
     "end_time": "2025-07-30T13:10:28.457056",
     "exception": false,
     "start_time": "2025-07-30T13:10:28.441558",
     "status": "completed"
    },
    "tags": []
   },
   "outputs": [
    {
     "data": {
      "text/plain": [
       "(18524, 9)"
      ]
     },
     "execution_count": 5,
     "metadata": {},
     "output_type": "execute_result"
    }
   ],
   "source": [
    "df.shape"
   ]
  },
  {
   "cell_type": "code",
   "execution_count": 6,
   "id": "d4afd17d",
   "metadata": {
    "execution": {
     "iopub.execute_input": "2025-07-30T13:10:28.473329Z",
     "iopub.status.busy": "2025-07-30T13:10:28.473006Z",
     "iopub.status.idle": "2025-07-30T13:10:28.483396Z",
     "shell.execute_reply": "2025-07-30T13:10:28.482540Z"
    },
    "papermill": {
     "duration": 0.020259,
     "end_time": "2025-07-30T13:10:28.484990",
     "exception": false,
     "start_time": "2025-07-30T13:10:28.464731",
     "status": "completed"
    },
    "tags": []
   },
   "outputs": [
    {
     "data": {
      "text/plain": [
       "9196"
      ]
     },
     "execution_count": 6,
     "metadata": {},
     "output_type": "execute_result"
    }
   ],
   "source": [
    "df.isnull().sum().sum()"
   ]
  },
  {
   "cell_type": "code",
   "execution_count": 7,
   "id": "7f898389",
   "metadata": {
    "execution": {
     "iopub.execute_input": "2025-07-30T13:10:28.501338Z",
     "iopub.status.busy": "2025-07-30T13:10:28.500983Z",
     "iopub.status.idle": "2025-07-30T13:10:28.511594Z",
     "shell.execute_reply": "2025-07-30T13:10:28.510696Z"
    },
    "papermill": {
     "duration": 0.020433,
     "end_time": "2025-07-30T13:10:28.513052",
     "exception": false,
     "start_time": "2025-07-30T13:10:28.492619",
     "status": "completed"
    },
    "tags": []
   },
   "outputs": [
    {
     "data": {
      "text/plain": [
       "id                              0\n",
       "Time_spent_Alone             1190\n",
       "Stage_fear                   1893\n",
       "Social_event_attendance      1180\n",
       "Going_outside                1466\n",
       "Drained_after_socializing    1149\n",
       "Friends_circle_size          1054\n",
       "Post_frequency               1264\n",
       "Personality                     0\n",
       "dtype: int64"
      ]
     },
     "execution_count": 7,
     "metadata": {},
     "output_type": "execute_result"
    }
   ],
   "source": [
    "df.isnull().sum()"
   ]
  },
  {
   "cell_type": "code",
   "execution_count": 8,
   "id": "cc1a0c2e",
   "metadata": {
    "execution": {
     "iopub.execute_input": "2025-07-30T13:10:28.530565Z",
     "iopub.status.busy": "2025-07-30T13:10:28.529847Z",
     "iopub.status.idle": "2025-07-30T13:10:28.544408Z",
     "shell.execute_reply": "2025-07-30T13:10:28.543679Z"
    },
    "papermill": {
     "duration": 0.025073,
     "end_time": "2025-07-30T13:10:28.545954",
     "exception": false,
     "start_time": "2025-07-30T13:10:28.520881",
     "status": "completed"
    },
    "tags": []
   },
   "outputs": [
    {
     "data": {
      "text/plain": [
       "id                           18524\n",
       "Time_spent_Alone                12\n",
       "Stage_fear                       2\n",
       "Social_event_attendance         11\n",
       "Going_outside                    8\n",
       "Drained_after_socializing        2\n",
       "Friends_circle_size             16\n",
       "Post_frequency                  11\n",
       "Personality                      2\n",
       "dtype: int64"
      ]
     },
     "execution_count": 8,
     "metadata": {},
     "output_type": "execute_result"
    }
   ],
   "source": [
    "df.nunique()"
   ]
  },
  {
   "cell_type": "code",
   "execution_count": 9,
   "id": "ae4cf437",
   "metadata": {
    "execution": {
     "iopub.execute_input": "2025-07-30T13:10:28.562600Z",
     "iopub.status.busy": "2025-07-30T13:10:28.562277Z",
     "iopub.status.idle": "2025-07-30T13:10:28.584671Z",
     "shell.execute_reply": "2025-07-30T13:10:28.583677Z"
    },
    "papermill": {
     "duration": 0.032311,
     "end_time": "2025-07-30T13:10:28.586169",
     "exception": false,
     "start_time": "2025-07-30T13:10:28.553858",
     "status": "completed"
    },
    "tags": []
   },
   "outputs": [
    {
     "name": "stdout",
     "output_type": "stream",
     "text": [
      "<class 'pandas.core.frame.DataFrame'>\n",
      "RangeIndex: 18524 entries, 0 to 18523\n",
      "Data columns (total 9 columns):\n",
      " #   Column                     Non-Null Count  Dtype  \n",
      "---  ------                     --------------  -----  \n",
      " 0   id                         18524 non-null  int64  \n",
      " 1   Time_spent_Alone           17334 non-null  float64\n",
      " 2   Stage_fear                 16631 non-null  object \n",
      " 3   Social_event_attendance    17344 non-null  float64\n",
      " 4   Going_outside              17058 non-null  float64\n",
      " 5   Drained_after_socializing  17375 non-null  object \n",
      " 6   Friends_circle_size        17470 non-null  float64\n",
      " 7   Post_frequency             17260 non-null  float64\n",
      " 8   Personality                18524 non-null  object \n",
      "dtypes: float64(5), int64(1), object(3)\n",
      "memory usage: 1.3+ MB\n"
     ]
    }
   ],
   "source": [
    "df.info()"
   ]
  },
  {
   "cell_type": "code",
   "execution_count": 10,
   "id": "203cc745",
   "metadata": {
    "execution": {
     "iopub.execute_input": "2025-07-30T13:10:28.603639Z",
     "iopub.status.busy": "2025-07-30T13:10:28.603188Z",
     "iopub.status.idle": "2025-07-30T13:10:28.634643Z",
     "shell.execute_reply": "2025-07-30T13:10:28.633770Z"
    },
    "papermill": {
     "duration": 0.041806,
     "end_time": "2025-07-30T13:10:28.636056",
     "exception": false,
     "start_time": "2025-07-30T13:10:28.594250",
     "status": "completed"
    },
    "tags": []
   },
   "outputs": [
    {
     "data": {
      "text/html": [
       "<div>\n",
       "<style scoped>\n",
       "    .dataframe tbody tr th:only-of-type {\n",
       "        vertical-align: middle;\n",
       "    }\n",
       "\n",
       "    .dataframe tbody tr th {\n",
       "        vertical-align: top;\n",
       "    }\n",
       "\n",
       "    .dataframe thead th {\n",
       "        text-align: right;\n",
       "    }\n",
       "</style>\n",
       "<table border=\"1\" class=\"dataframe\">\n",
       "  <thead>\n",
       "    <tr style=\"text-align: right;\">\n",
       "      <th></th>\n",
       "      <th>count</th>\n",
       "      <th>mean</th>\n",
       "      <th>std</th>\n",
       "      <th>min</th>\n",
       "      <th>25%</th>\n",
       "      <th>50%</th>\n",
       "      <th>75%</th>\n",
       "      <th>max</th>\n",
       "    </tr>\n",
       "  </thead>\n",
       "  <tbody>\n",
       "    <tr>\n",
       "      <th>id</th>\n",
       "      <td>18524.0</td>\n",
       "      <td>9261.500000</td>\n",
       "      <td>5347.562529</td>\n",
       "      <td>0.0</td>\n",
       "      <td>4630.75</td>\n",
       "      <td>9261.5</td>\n",
       "      <td>13892.25</td>\n",
       "      <td>18523.0</td>\n",
       "    </tr>\n",
       "    <tr>\n",
       "      <th>Time_spent_Alone</th>\n",
       "      <td>17334.0</td>\n",
       "      <td>3.137764</td>\n",
       "      <td>3.003786</td>\n",
       "      <td>0.0</td>\n",
       "      <td>1.00</td>\n",
       "      <td>2.0</td>\n",
       "      <td>4.00</td>\n",
       "      <td>11.0</td>\n",
       "    </tr>\n",
       "    <tr>\n",
       "      <th>Social_event_attendance</th>\n",
       "      <td>17344.0</td>\n",
       "      <td>5.265106</td>\n",
       "      <td>2.753359</td>\n",
       "      <td>0.0</td>\n",
       "      <td>3.00</td>\n",
       "      <td>5.0</td>\n",
       "      <td>8.00</td>\n",
       "      <td>10.0</td>\n",
       "    </tr>\n",
       "    <tr>\n",
       "      <th>Going_outside</th>\n",
       "      <td>17058.0</td>\n",
       "      <td>4.044319</td>\n",
       "      <td>2.062580</td>\n",
       "      <td>0.0</td>\n",
       "      <td>3.00</td>\n",
       "      <td>4.0</td>\n",
       "      <td>6.00</td>\n",
       "      <td>7.0</td>\n",
       "    </tr>\n",
       "    <tr>\n",
       "      <th>Friends_circle_size</th>\n",
       "      <td>17470.0</td>\n",
       "      <td>7.996737</td>\n",
       "      <td>4.223484</td>\n",
       "      <td>0.0</td>\n",
       "      <td>5.00</td>\n",
       "      <td>8.0</td>\n",
       "      <td>12.00</td>\n",
       "      <td>15.0</td>\n",
       "    </tr>\n",
       "    <tr>\n",
       "      <th>Post_frequency</th>\n",
       "      <td>17260.0</td>\n",
       "      <td>4.982097</td>\n",
       "      <td>2.879139</td>\n",
       "      <td>0.0</td>\n",
       "      <td>3.00</td>\n",
       "      <td>5.0</td>\n",
       "      <td>7.00</td>\n",
       "      <td>10.0</td>\n",
       "    </tr>\n",
       "  </tbody>\n",
       "</table>\n",
       "</div>"
      ],
      "text/plain": [
       "                           count         mean          std  min      25%  \\\n",
       "id                       18524.0  9261.500000  5347.562529  0.0  4630.75   \n",
       "Time_spent_Alone         17334.0     3.137764     3.003786  0.0     1.00   \n",
       "Social_event_attendance  17344.0     5.265106     2.753359  0.0     3.00   \n",
       "Going_outside            17058.0     4.044319     2.062580  0.0     3.00   \n",
       "Friends_circle_size      17470.0     7.996737     4.223484  0.0     5.00   \n",
       "Post_frequency           17260.0     4.982097     2.879139  0.0     3.00   \n",
       "\n",
       "                            50%       75%      max  \n",
       "id                       9261.5  13892.25  18523.0  \n",
       "Time_spent_Alone            2.0      4.00     11.0  \n",
       "Social_event_attendance     5.0      8.00     10.0  \n",
       "Going_outside               4.0      6.00      7.0  \n",
       "Friends_circle_size         8.0     12.00     15.0  \n",
       "Post_frequency              5.0      7.00     10.0  "
      ]
     },
     "execution_count": 10,
     "metadata": {},
     "output_type": "execute_result"
    }
   ],
   "source": [
    "df.describe().transpose()"
   ]
  },
  {
   "cell_type": "code",
   "execution_count": 11,
   "id": "dbb13569",
   "metadata": {
    "execution": {
     "iopub.execute_input": "2025-07-30T13:10:28.653446Z",
     "iopub.status.busy": "2025-07-30T13:10:28.653102Z",
     "iopub.status.idle": "2025-07-30T13:10:28.921967Z",
     "shell.execute_reply": "2025-07-30T13:10:28.921105Z"
    },
    "papermill": {
     "duration": 0.279373,
     "end_time": "2025-07-30T13:10:28.923433",
     "exception": false,
     "start_time": "2025-07-30T13:10:28.644060",
     "status": "completed"
    },
    "tags": []
   },
   "outputs": [
    {
     "data": {
      "image/png": "[encoded data removed]",
      "text/plain": [
       "<Figure size 1200x600 with 1 Axes>"
      ]
     },
     "metadata": {},
     "output_type": "display_data"
    }
   ],
   "source": [
    "plt.figure(figsize=(12,6))\n",
    "sns.countplot(x='Personality', data=df)\n",
    "plt.title('Target Class Distribution')\n",
    "plt.tight_layout()\n",
    "plt.show()"
   ]
  },
  {
   "cell_type": "markdown",
   "id": "7703508b",
   "metadata": {
    "papermill": {
     "duration": 0.007935,
     "end_time": "2025-07-30T13:10:28.940011",
     "exception": false,
     "start_time": "2025-07-30T13:10:28.932076",
     "status": "completed"
    },
    "tags": []
   },
   "source": [
    "# **Data Preprocessing**"
   ]
  },
  {
   "cell_type": "markdown",
   "id": "ab699ec7",
   "metadata": {
    "papermill": {
     "duration": 0.007951,
     "end_time": "2025-07-30T13:10:28.956135",
     "exception": false,
     "start_time": "2025-07-30T13:10:28.948184",
     "status": "completed"
    },
    "tags": []
   },
   "source": [
    "## Handling Missing Values"
   ]
  },
  {
   "cell_type": "code",
   "execution_count": 12,
   "id": "40ba8e3e",
   "metadata": {
    "execution": {
     "iopub.execute_input": "2025-07-30T13:10:28.973950Z",
     "iopub.status.busy": "2025-07-30T13:10:28.973318Z",
     "iopub.status.idle": "2025-07-30T13:10:28.995589Z",
     "shell.execute_reply": "2025-07-30T13:10:28.994804Z"
    },
    "papermill": {
     "duration": 0.033272,
     "end_time": "2025-07-30T13:10:28.997537",
     "exception": false,
     "start_time": "2025-07-30T13:10:28.964265",
     "status": "completed"
    },
    "tags": []
   },
   "outputs": [],
   "source": [
    "# Fill numerical columns with median\n",
    "num_cols = ['Time_spent_Alone', 'Social_event_attendance', 'Going_outside', 'Friends_circle_size', 'Post_frequency']\n",
    "df[num_cols] = df[num_cols].fillna(df[num_cols].median())\n",
    "# Fill categorical columns with mode\n",
    "cat_cols = ['Stage_fear', 'Drained_after_socializing']\n",
    "df[cat_cols] = df[cat_cols].fillna(df[cat_cols].mode().iloc[0])"
   ]
  },
  {
   "cell_type": "markdown",
   "id": "b5cefd6e",
   "metadata": {
    "papermill": {
     "duration": 0.008115,
     "end_time": "2025-07-30T13:10:29.014550",
     "exception": false,
     "start_time": "2025-07-30T13:10:29.006435",
     "status": "completed"
    },
    "tags": []
   },
   "source": [
    "## Encoding Categorical Variables"
   ]
  },
  {
   "cell_type": "code",
   "execution_count": 13,
   "id": "8a7c17bf",
   "metadata": {
    "execution": {
     "iopub.execute_input": "2025-07-30T13:10:29.032738Z",
     "iopub.status.busy": "2025-07-30T13:10:29.032243Z",
     "iopub.status.idle": "2025-07-30T13:10:29.051210Z",
     "shell.execute_reply": "2025-07-30T13:10:29.049999Z"
    },
    "papermill": {
     "duration": 0.029929,
     "end_time": "2025-07-30T13:10:29.052930",
     "exception": false,
     "start_time": "2025-07-30T13:10:29.023001",
     "status": "completed"
    },
    "tags": []
   },
   "outputs": [],
   "source": [
    "# Label encode binary categorical features\n",
    "cols = ['Stage_fear', 'Drained_after_socializing']\n",
    "le = LabelEncoder()\n",
    "for col in cols:\n",
    "    df[col] = le.fit_transform(df[col])\n",
    "\n",
    "# Label encode the target separately\n",
    "df['Personality_Encoded'] = le.fit_transform(df['Personality'])\n"
   ]
  },
  {
   "cell_type": "markdown",
   "id": "121d2a46",
   "metadata": {
    "papermill": {
     "duration": 0.008524,
     "end_time": "2025-07-30T13:10:29.134354",
     "exception": false,
     "start_time": "2025-07-30T13:10:29.125830",
     "status": "completed"
    },
    "tags": []
   },
   "source": [
    "## Splitting Dataset"
   ]
  },
  {
   "cell_type": "code",
   "execution_count": 14,
   "id": "045433c6",
   "metadata": {
    "execution": {
     "iopub.execute_input": "2025-07-30T13:10:29.152932Z",
     "iopub.status.busy": "2025-07-30T13:10:29.152600Z",
     "iopub.status.idle": "2025-07-30T13:10:29.159814Z",
     "shell.execute_reply": "2025-07-30T13:10:29.158722Z"
    },
    "papermill": {
     "duration": 0.018378,
     "end_time": "2025-07-30T13:10:29.161397",
     "exception": false,
     "start_time": "2025-07-30T13:10:29.143019",
     "status": "completed"
    },
    "tags": []
   },
   "outputs": [],
   "source": [
    "X = df.drop(['Personality', 'Personality_Encoded'], axis=1)\n",
    "y = df['Personality_Encoded']"
   ]
  },
  {
   "cell_type": "markdown",
   "id": "9d4b7a46",
   "metadata": {
    "papermill": {
     "duration": 0.008413,
     "end_time": "2025-07-30T13:10:29.178752",
     "exception": false,
     "start_time": "2025-07-30T13:10:29.170339",
     "status": "completed"
    },
    "tags": []
   },
   "source": [
    "## Handling Imbalanced Target Data"
   ]
  },
  {
   "cell_type": "code",
   "execution_count": 15,
   "id": "1d07901c",
   "metadata": {
    "execution": {
     "iopub.execute_input": "2025-07-30T13:10:29.197126Z",
     "iopub.status.busy": "2025-07-30T13:10:29.196805Z",
     "iopub.status.idle": "2025-07-30T13:10:29.204774Z",
     "shell.execute_reply": "2025-07-30T13:10:29.203836Z"
    },
    "papermill": {
     "duration": 0.019099,
     "end_time": "2025-07-30T13:10:29.206302",
     "exception": false,
     "start_time": "2025-07-30T13:10:29.187203",
     "status": "completed"
    },
    "tags": []
   },
   "outputs": [
    {
     "name": "stdout",
     "output_type": "stream",
     "text": [
      "Personality_Encoded\n",
      "0    73.95271\n",
      "1    26.04729\n",
      "Name: proportion, dtype: float64\n"
     ]
    }
   ],
   "source": [
    "#checking imbalance\n",
    "print(y.value_counts(normalize=True) * 100)"
   ]
  },
  {
   "cell_type": "code",
   "execution_count": 16,
   "id": "fdefb554",
   "metadata": {
    "execution": {
     "iopub.execute_input": "2025-07-30T13:10:29.224645Z",
     "iopub.status.busy": "2025-07-30T13:10:29.224267Z",
     "iopub.status.idle": "2025-07-30T13:10:29.269536Z",
     "shell.execute_reply": "2025-07-30T13:10:29.268602Z"
    },
    "papermill": {
     "duration": 0.056324,
     "end_time": "2025-07-30T13:10:29.271238",
     "exception": false,
     "start_time": "2025-07-30T13:10:29.214914",
     "status": "completed"
    },
    "tags": []
   },
   "outputs": [],
   "source": [
    "smote = SMOTE(random_state=42)\n",
    "X_resampled, y_resampled = smote.fit_resample(X, y)"
   ]
  },
  {
   "cell_type": "markdown",
   "id": "911c87bb",
   "metadata": {
    "papermill": {
     "duration": 0.008808,
     "end_time": "2025-07-30T13:10:29.288721",
     "exception": false,
     "start_time": "2025-07-30T13:10:29.279913",
     "status": "completed"
    },
    "tags": []
   },
   "source": [
    "##  Train-test split (using train dataset)"
   ]
  },
  {
   "cell_type": "code",
   "execution_count": 17,
   "id": "22b94401",
   "metadata": {
    "execution": {
     "iopub.execute_input": "2025-07-30T13:10:29.307380Z",
     "iopub.status.busy": "2025-07-30T13:10:29.307103Z",
     "iopub.status.idle": "2025-07-30T13:10:29.324646Z",
     "shell.execute_reply": "2025-07-30T13:10:29.323727Z"
    },
    "papermill": {
     "duration": 0.028627,
     "end_time": "2025-07-30T13:10:29.326339",
     "exception": false,
     "start_time": "2025-07-30T13:10:29.297712",
     "status": "completed"
    },
    "tags": []
   },
   "outputs": [],
   "source": [
    "X_train, X_test, y_train, y_test = train_test_split(\n",
    "    X_resampled, \n",
    "    y_resampled, \n",
    "    test_size=0.2, \n",
    "    random_state=42, \n",
    "    stratify=y_resampled)"
   ]
  },
  {
   "cell_type": "markdown",
   "id": "e2cd1430",
   "metadata": {
    "papermill": {
     "duration": 0.008292,
     "end_time": "2025-07-30T13:10:29.343847",
     "exception": false,
     "start_time": "2025-07-30T13:10:29.335555",
     "status": "completed"
    },
    "tags": []
   },
   "source": [
    "# **Training Model**"
   ]
  },
  {
   "cell_type": "markdown",
   "id": "ffe73e5b",
   "metadata": {
    "papermill": {
     "duration": 0.008058,
     "end_time": "2025-07-30T13:10:29.360322",
     "exception": false,
     "start_time": "2025-07-30T13:10:29.352264",
     "status": "completed"
    },
    "tags": []
   },
   "source": [
    "## Random Forest Classifier"
   ]
  },
  {
   "cell_type": "code",
   "execution_count": 18,
   "id": "a66efbdb",
   "metadata": {
    "execution": {
     "iopub.execute_input": "2025-07-30T13:10:29.378375Z",
     "iopub.status.busy": "2025-07-30T13:10:29.378060Z",
     "iopub.status.idle": "2025-07-30T13:10:29.385784Z",
     "shell.execute_reply": "2025-07-30T13:10:29.384840Z"
    },
    "papermill": {
     "duration": 0.01846,
     "end_time": "2025-07-30T13:10:29.387312",
     "exception": false,
     "start_time": "2025-07-30T13:10:29.368852",
     "status": "completed"
    },
    "tags": []
   },
   "outputs": [
    {
     "data": {
      "text/html": [
       "<style>#sk-container-id-1 {color: black;}#sk-container-id-1 pre{padding: 0;}#sk-container-id-1 div.sk-toggleable {background-color: white;}#sk-container-id-1 label.sk-toggleable__label {cursor: pointer;display: block;width: 100%;margin-bottom: 0;padding: 0.3em;box-sizing: border-box;text-align: center;}#sk-container-id-1 label.sk-toggleable__label-arrow:before {content: \"▸\";float: left;margin-right: 0.25em;color: #696969;}#sk-container-id-1 label.sk-toggleable__label-arrow:hover:before {color: black;}#sk-container-id-1 div.sk-estimator:hover label.sk-toggleable__label-arrow:before {color: black;}#sk-container-id-1 div.sk-toggleable__content {max-height: 0;max-width: 0;overflow: hidden;text-align: left;background-color: #f0f8ff;}#sk-container-id-1 div.sk-toggleable__content pre {margin: 0.2em;color: black;border-radius: 0.25em;background-color: #f0f8ff;}#sk-container-id-1 input.sk-toggleable__control:checked~div.sk-toggleable__content {max-height: 200px;max-width: 100%;overflow: auto;}#sk-container-id-1 input.sk-toggleable__control:checked~label.sk-toggleable__label-arrow:before {content: \"▾\";}#sk-container-id-1 div.sk-estimator input.sk-toggleable__control:checked~label.sk-toggleable__label {background-color: #d4ebff;}#sk-container-id-1 div.sk-label input.sk-toggleable__control:checked~label.sk-toggleable__label {background-color: #d4ebff;}#sk-container-id-1 input.sk-hidden--visually {border: 0;clip: rect(1px 1px 1px 1px);clip: rect(1px, 1px, 1px, 1px);height: 1px;margin: -1px;overflow: hidden;padding: 0;position: absolute;width: 1px;}#sk-container-id-1 div.sk-estimator {font-family: monospace;background-color: #f0f8ff;border: 1px dotted black;border-radius: 0.25em;box-sizing: border-box;margin-bottom: 0.5em;}#sk-container-id-1 div.sk-estimator:hover {background-color: #d4ebff;}#sk-container-id-1 div.sk-parallel-item::after {content: \"\";width: 100%;border-bottom: 1px solid gray;flex-grow: 1;}#sk-container-id-1 div.sk-label:hover label.sk-toggleable__label {background-color: #d4ebff;}#sk-container-id-1 div.sk-serial::before {content: \"\";position: absolute;border-left: 1px solid gray;box-sizing: border-box;top: 0;bottom: 0;left: 50%;z-index: 0;}#sk-container-id-1 div.sk-serial {display: flex;flex-direction: column;align-items: center;background-color: white;padding-right: 0.2em;padding-left: 0.2em;position: relative;}#sk-container-id-1 div.sk-item {position: relative;z-index: 1;}#sk-container-id-1 div.sk-parallel {display: flex;align-items: stretch;justify-content: center;background-color: white;position: relative;}#sk-container-id-1 div.sk-item::before, #sk-container-id-1 div.sk-parallel-item::before {content: \"\";position: absolute;border-left: 1px solid gray;box-sizing: border-box;top: 0;bottom: 0;left: 50%;z-index: -1;}#sk-container-id-1 div.sk-parallel-item {display: flex;flex-direction: column;z-index: 1;position: relative;background-color: white;}#sk-container-id-1 div.sk-parallel-item:first-child::after {align-self: flex-end;width: 50%;}#sk-container-id-1 div.sk-parallel-item:last-child::after {align-self: flex-start;width: 50%;}#sk-container-id-1 div.sk-parallel-item:only-child::after {width: 0;}#sk-container-id-1 div.sk-dashed-wrapped {border: 1px dashed gray;margin: 0 0.4em 0.5em 0.4em;box-sizing: border-box;padding-bottom: 0.4em;background-color: white;}#sk-container-id-1 div.sk-label label {font-family: monospace;font-weight: bold;display: inline-block;line-height: 1.2em;}#sk-container-id-1 div.sk-label-container {text-align: center;}#sk-container-id-1 div.sk-container {/* jupyter's `normalize.less` sets `[hidden] { display: none; }` but bootstrap.min.css set `[hidden] { display: none !important; }` so we also need the `!important` here to be able to override the default hidden behavior on the sphinx rendered scikit-learn.org. See: https://github.com/scikit-learn/scikit-learn/issues/21755 */display: inline-block !important;position: relative;}#sk-container-id-1 div.sk-text-repr-fallback {display: none;}</style><div id=\"sk-container-id-1\" class=\"sk-top-container\"><div class=\"sk-text-repr-fallback\"><pre>RandomForestClassifier(random_state=42)</pre><b>In a Jupyter environment, please rerun this cell to show the HTML representation or trust the notebook. <br />On GitHub, the HTML representation is unable to render, please try loading this page with nbviewer.org.</b></div><div class=\"sk-container\" hidden><div class=\"sk-item\"><div class=\"sk-estimator sk-toggleable\"><input class=\"sk-toggleable__control sk-hidden--visually\" id=\"sk-estimator-id-1\" type=\"checkbox\" checked><label for=\"sk-estimator-id-1\" class=\"sk-toggleable__label sk-toggleable__label-arrow\">RandomForestClassifier</label><div class=\"sk-toggleable__content\"><pre>RandomForestClassifier(random_state=42)</pre></div></div></div></div></div>"
      ],
      "text/plain": [
       "RandomForestClassifier(random_state=42)"
      ]
     },
     "execution_count": 18,
     "metadata": {},
     "output_type": "execute_result"
    }
   ],
   "source": [
    "rf_model = RandomForestClassifier(random_state=42)\n",
    "rf_model"
   ]
  },
  {
   "cell_type": "code",
   "execution_count": 19,
   "id": "79a310a0",
   "metadata": {
    "execution": {
     "iopub.execute_input": "2025-07-30T13:10:29.406453Z",
     "iopub.status.busy": "2025-07-30T13:10:29.406126Z",
     "iopub.status.idle": "2025-07-30T13:10:32.579024Z",
     "shell.execute_reply": "2025-07-30T13:10:32.578162Z"
    },
    "papermill": {
     "duration": 3.184322,
     "end_time": "2025-07-30T13:10:32.580598",
     "exception": false,
     "start_time": "2025-07-30T13:10:29.396276",
     "status": "completed"
    },
    "tags": []
   },
   "outputs": [],
   "source": [
    "rf_model.fit(X_train, y_train)\n",
    "y_rf_pred = rf_model.predict(X_test)"
   ]
  },
  {
   "cell_type": "code",
   "execution_count": 20,
   "id": "b57061a0",
   "metadata": {
    "execution": {
     "iopub.execute_input": "2025-07-30T13:10:32.599772Z",
     "iopub.status.busy": "2025-07-30T13:10:32.599050Z",
     "iopub.status.idle": "2025-07-30T13:10:32.620064Z",
     "shell.execute_reply": "2025-07-30T13:10:32.618877Z"
    },
    "papermill": {
     "duration": 0.032416,
     "end_time": "2025-07-30T13:10:32.621797",
     "exception": false,
     "start_time": "2025-07-30T13:10:32.589381",
     "status": "completed"
    },
    "tags": []
   },
   "outputs": [
    {
     "name": "stdout",
     "output_type": "stream",
     "text": [
      "Classification Report:\n",
      "              precision    recall  f1-score   support\n",
      "\n",
      "           0       0.98      0.98      0.98      2740\n",
      "           1       0.98      0.98      0.98      2740\n",
      "\n",
      "    accuracy                           0.98      5480\n",
      "   macro avg       0.98      0.98      0.98      5480\n",
      "weighted avg       0.98      0.98      0.98      5480\n",
      "\n"
     ]
    }
   ],
   "source": [
    "#evaluation \n",
    "print(\"Classification Report:\")\n",
    "print(classification_report(y_test, y_rf_pred))"
   ]
  },
  {
   "cell_type": "markdown",
   "id": "dc21a6bd",
   "metadata": {
    "papermill": {
     "duration": 0.008939,
     "end_time": "2025-07-30T13:10:32.639885",
     "exception": false,
     "start_time": "2025-07-30T13:10:32.630946",
     "status": "completed"
    },
    "tags": []
   },
   "source": [
    "## CatBoostClassifier"
   ]
  },
  {
   "cell_type": "code",
   "execution_count": 21,
   "id": "bb74edda",
   "metadata": {
    "execution": {
     "iopub.execute_input": "2025-07-30T13:10:32.659016Z",
     "iopub.status.busy": "2025-07-30T13:10:32.658691Z",
     "iopub.status.idle": "2025-07-30T13:10:32.666524Z",
     "shell.execute_reply": "2025-07-30T13:10:32.665415Z"
    },
    "papermill": {
     "duration": 0.019319,
     "end_time": "2025-07-30T13:10:32.668139",
     "exception": false,
     "start_time": "2025-07-30T13:10:32.648820",
     "status": "completed"
    },
    "tags": []
   },
   "outputs": [
    {
     "data": {
      "text/plain": [
       "<catboost.core.CatBoostClassifier at 0x7f553bdcd4d0>"
      ]
     },
     "execution_count": 21,
     "metadata": {},
     "output_type": "execute_result"
    }
   ],
   "source": [
    "cat_model = CatBoostClassifier(verbose=0, random_state=42)\n",
    "cat_model"
   ]
  },
  {
   "cell_type": "code",
   "execution_count": 22,
   "id": "d3b64eeb",
   "metadata": {
    "execution": {
     "iopub.execute_input": "2025-07-30T13:10:32.688592Z",
     "iopub.status.busy": "2025-07-30T13:10:32.688151Z",
     "iopub.status.idle": "2025-07-30T13:10:38.610811Z",
     "shell.execute_reply": "2025-07-30T13:10:38.609880Z"
    },
    "papermill": {
     "duration": 5.934822,
     "end_time": "2025-07-30T13:10:38.612356",
     "exception": false,
     "start_time": "2025-07-30T13:10:32.677534",
     "status": "completed"
    },
    "tags": []
   },
   "outputs": [],
   "source": [
    "cat_model.fit(X_train, y_train)\n",
    "cat_preds = cat_model.predict(X_test)"
   ]
  },
  {
   "cell_type": "code",
   "execution_count": 23,
   "id": "dba11931",
   "metadata": {
    "execution": {
     "iopub.execute_input": "2025-07-30T13:10:38.631890Z",
     "iopub.status.busy": "2025-07-30T13:10:38.631574Z",
     "iopub.status.idle": "2025-07-30T13:10:38.652405Z",
     "shell.execute_reply": "2025-07-30T13:10:38.651346Z"
    },
    "papermill": {
     "duration": 0.032358,
     "end_time": "2025-07-30T13:10:38.653981",
     "exception": false,
     "start_time": "2025-07-30T13:10:38.621623",
     "status": "completed"
    },
    "tags": []
   },
   "outputs": [
    {
     "name": "stdout",
     "output_type": "stream",
     "text": [
      "CatBoost Classification Report:\n",
      "              precision    recall  f1-score   support\n",
      "\n",
      "           0       0.98      0.98      0.98      2740\n",
      "           1       0.98      0.98      0.98      2740\n",
      "\n",
      "    accuracy                           0.98      5480\n",
      "   macro avg       0.98      0.98      0.98      5480\n",
      "weighted avg       0.98      0.98      0.98      5480\n",
      "\n"
     ]
    }
   ],
   "source": [
    "print(\"CatBoost Classification Report:\")\n",
    "print(classification_report(y_test, cat_preds))"
   ]
  },
  {
   "cell_type": "markdown",
   "id": "ea400219",
   "metadata": {
    "papermill": {
     "duration": 0.00857,
     "end_time": "2025-07-30T13:10:38.671805",
     "exception": false,
     "start_time": "2025-07-30T13:10:38.663235",
     "status": "completed"
    },
    "tags": []
   },
   "source": [
    "## LightGBM (LGBMClassifier)"
   ]
  },
  {
   "cell_type": "code",
   "execution_count": 24,
   "id": "878604b1",
   "metadata": {
    "execution": {
     "iopub.execute_input": "2025-07-30T13:10:38.691012Z",
     "iopub.status.busy": "2025-07-30T13:10:38.690374Z",
     "iopub.status.idle": "2025-07-30T13:10:38.697248Z",
     "shell.execute_reply": "2025-07-30T13:10:38.696417Z"
    },
    "papermill": {
     "duration": 0.018157,
     "end_time": "2025-07-30T13:10:38.698674",
     "exception": false,
     "start_time": "2025-07-30T13:10:38.680517",
     "status": "completed"
    },
    "tags": []
   },
   "outputs": [
    {
     "data": {
      "text/html": [
       "<style>#sk-container-id-2 {color: black;}#sk-container-id-2 pre{padding: 0;}#sk-container-id-2 div.sk-toggleable {background-color: white;}#sk-container-id-2 label.sk-toggleable__label {cursor: pointer;display: block;width: 100%;margin-bottom: 0;padding: 0.3em;box-sizing: border-box;text-align: center;}#sk-container-id-2 label.sk-toggleable__label-arrow:before {content: \"▸\";float: left;margin-right: 0.25em;color: #696969;}#sk-container-id-2 label.sk-toggleable__label-arrow:hover:before {color: black;}#sk-container-id-2 div.sk-estimator:hover label.sk-toggleable__label-arrow:before {color: black;}#sk-container-id-2 div.sk-toggleable__content {max-height: 0;max-width: 0;overflow: hidden;text-align: left;background-color: #f0f8ff;}#sk-container-id-2 div.sk-toggleable__content pre {margin: 0.2em;color: black;border-radius: 0.25em;background-color: #f0f8ff;}#sk-container-id-2 input.sk-toggleable__control:checked~div.sk-toggleable__content {max-height: 200px;max-width: 100%;overflow: auto;}#sk-container-id-2 input.sk-toggleable__control:checked~label.sk-toggleable__label-arrow:before {content: \"▾\";}#sk-container-id-2 div.sk-estimator input.sk-toggleable__control:checked~label.sk-toggleable__label {background-color: #d4ebff;}#sk-container-id-2 div.sk-label input.sk-toggleable__control:checked~label.sk-toggleable__label {background-color: #d4ebff;}#sk-container-id-2 input.sk-hidden--visually {border: 0;clip: rect(1px 1px 1px 1px);clip: rect(1px, 1px, 1px, 1px);height: 1px;margin: -1px;overflow: hidden;padding: 0;position: absolute;width: 1px;}#sk-container-id-2 div.sk-estimator {font-family: monospace;background-color: #f0f8ff;border: 1px dotted black;border-radius: 0.25em;box-sizing: border-box;margin-bottom: 0.5em;}#sk-container-id-2 div.sk-estimator:hover {background-color: #d4ebff;}#sk-container-id-2 div.sk-parallel-item::after {content: \"\";width: 100%;border-bottom: 1px solid gray;flex-grow: 1;}#sk-container-id-2 div.sk-label:hover label.sk-toggleable__label {background-color: #d4ebff;}#sk-container-id-2 div.sk-serial::before {content: \"\";position: absolute;border-left: 1px solid gray;box-sizing: border-box;top: 0;bottom: 0;left: 50%;z-index: 0;}#sk-container-id-2 div.sk-serial {display: flex;flex-direction: column;align-items: center;background-color: white;padding-right: 0.2em;padding-left: 0.2em;position: relative;}#sk-container-id-2 div.sk-item {position: relative;z-index: 1;}#sk-container-id-2 div.sk-parallel {display: flex;align-items: stretch;justify-content: center;background-color: white;position: relative;}#sk-container-id-2 div.sk-item::before, #sk-container-id-2 div.sk-parallel-item::before {content: \"\";position: absolute;border-left: 1px solid gray;box-sizing: border-box;top: 0;bottom: 0;left: 50%;z-index: -1;}#sk-container-id-2 div.sk-parallel-item {display: flex;flex-direction: column;z-index: 1;position: relative;background-color: white;}#sk-container-id-2 div.sk-parallel-item:first-child::after {align-self: flex-end;width: 50%;}#sk-container-id-2 div.sk-parallel-item:last-child::after {align-self: flex-start;width: 50%;}#sk-container-id-2 div.sk-parallel-item:only-child::after {width: 0;}#sk-container-id-2 div.sk-dashed-wrapped {border: 1px dashed gray;margin: 0 0.4em 0.5em 0.4em;box-sizing: border-box;padding-bottom: 0.4em;background-color: white;}#sk-container-id-2 div.sk-label label {font-family: monospace;font-weight: bold;display: inline-block;line-height: 1.2em;}#sk-container-id-2 div.sk-label-container {text-align: center;}#sk-container-id-2 div.sk-container {/* jupyter's `normalize.less` sets `[hidden] { display: none; }` but bootstrap.min.css set `[hidden] { display: none !important; }` so we also need the `!important` here to be able to override the default hidden behavior on the sphinx rendered scikit-learn.org. See: https://github.com/scikit-learn/scikit-learn/issues/21755 */display: inline-block !important;position: relative;}#sk-container-id-2 div.sk-text-repr-fallback {display: none;}</style><div id=\"sk-container-id-2\" class=\"sk-top-container\"><div class=\"sk-text-repr-fallback\"><pre>LGBMClassifier(random_state=42)</pre><b>In a Jupyter environment, please rerun this cell to show the HTML representation or trust the notebook. <br />On GitHub, the HTML representation is unable to render, please try loading this page with nbviewer.org.</b></div><div class=\"sk-container\" hidden><div class=\"sk-item\"><div class=\"sk-estimator sk-toggleable\"><input class=\"sk-toggleable__control sk-hidden--visually\" id=\"sk-estimator-id-2\" type=\"checkbox\" checked><label for=\"sk-estimator-id-2\" class=\"sk-toggleable__label sk-toggleable__label-arrow\">LGBMClassifier</label><div class=\"sk-toggleable__content\"><pre>LGBMClassifier(random_state=42)</pre></div></div></div></div></div>"
      ],
      "text/plain": [
       "LGBMClassifier(random_state=42)"
      ]
     },
     "execution_count": 24,
     "metadata": {},
     "output_type": "execute_result"
    }
   ],
   "source": [
    "lgbm_model = LGBMClassifier(random_state=42)\n",
    "lgbm_model"
   ]
  },
  {
   "cell_type": "code",
   "execution_count": 25,
   "id": "8e2c0700",
   "metadata": {
    "execution": {
     "iopub.execute_input": "2025-07-30T13:10:38.719569Z",
     "iopub.status.busy": "2025-07-30T13:10:38.719247Z",
     "iopub.status.idle": "2025-07-30T13:10:38.987882Z",
     "shell.execute_reply": "2025-07-30T13:10:38.986968Z"
    },
    "papermill": {
     "duration": 0.280471,
     "end_time": "2025-07-30T13:10:38.989562",
     "exception": false,
     "start_time": "2025-07-30T13:10:38.709091",
     "status": "completed"
    },
    "tags": []
   },
   "outputs": [
    {
     "name": "stdout",
     "output_type": "stream",
     "text": [
      "[LightGBM] [Info] Number of positive: 10959, number of negative: 10959\n",
      "[LightGBM] [Info] Auto-choosing row-wise multi-threading, the overhead of testing was 0.002512 seconds.\n",
      "You can set `force_row_wise=true` to remove the overhead.\n",
      "And if memory is not enough, you can set `force_col_wise=true`.\n",
      "[LightGBM] [Info] Total Bins 1534\n",
      "[LightGBM] [Info] Number of data points in the train set: 21918, number of used features: 8\n",
      "[LightGBM] [Info] [binary:BoostFromScore]: pavg=0.500000 -> initscore=0.000000\n"
     ]
    }
   ],
   "source": [
    "lgbm_model.fit(X_train, y_train)\n",
    "lgbm_preds = lgbm_model.predict(X_test)"
   ]
  },
  {
   "cell_type": "code",
   "execution_count": 26,
   "id": "60ce5b38",
   "metadata": {
    "execution": {
     "iopub.execute_input": "2025-07-30T13:10:39.009666Z",
     "iopub.status.busy": "2025-07-30T13:10:39.008883Z",
     "iopub.status.idle": "2025-07-30T13:10:39.029281Z",
     "shell.execute_reply": "2025-07-30T13:10:39.028178Z"
    },
    "papermill": {
     "duration": 0.03203,
     "end_time": "2025-07-30T13:10:39.030804",
     "exception": false,
     "start_time": "2025-07-30T13:10:38.998774",
     "status": "completed"
    },
    "tags": []
   },
   "outputs": [
    {
     "name": "stdout",
     "output_type": "stream",
     "text": [
      "LightGBM Classification Report:\n",
      "              precision    recall  f1-score   support\n",
      "\n",
      "           0       0.98      0.98      0.98      2740\n",
      "           1       0.98      0.98      0.98      2740\n",
      "\n",
      "    accuracy                           0.98      5480\n",
      "   macro avg       0.98      0.98      0.98      5480\n",
      "weighted avg       0.98      0.98      0.98      5480\n",
      "\n"
     ]
    }
   ],
   "source": [
    "print(\"LightGBM Classification Report:\")\n",
    "print(classification_report(y_test, lgbm_preds))"
   ]
  },
  {
   "cell_type": "markdown",
   "id": "20c6b6c5",
   "metadata": {
    "papermill": {
     "duration": 0.008815,
     "end_time": "2025-07-30T13:10:39.049265",
     "exception": false,
     "start_time": "2025-07-30T13:10:39.040450",
     "status": "completed"
    },
    "tags": []
   },
   "source": [
    "## XGBoostClassifier"
   ]
  },
  {
   "cell_type": "code",
   "execution_count": 27,
   "id": "b1c384aa",
   "metadata": {
    "execution": {
     "iopub.execute_input": "2025-07-30T13:10:39.068956Z",
     "iopub.status.busy": "2025-07-30T13:10:39.068640Z",
     "iopub.status.idle": "2025-07-30T13:10:39.077367Z",
     "shell.execute_reply": "2025-07-30T13:10:39.076463Z"
    },
    "papermill": {
     "duration": 0.020175,
     "end_time": "2025-07-30T13:10:39.078734",
     "exception": false,
     "start_time": "2025-07-30T13:10:39.058559",
     "status": "completed"
    },
    "tags": []
   },
   "outputs": [
    {
     "data": {
      "text/html": [
       "<style>#sk-container-id-3 {color: black;}#sk-container-id-3 pre{padding: 0;}#sk-container-id-3 div.sk-toggleable {background-color: white;}#sk-container-id-3 label.sk-toggleable__label {cursor: pointer;display: block;width: 100%;margin-bottom: 0;padding: 0.3em;box-sizing: border-box;text-align: center;}#sk-container-id-3 label.sk-toggleable__label-arrow:before {content: \"▸\";float: left;margin-right: 0.25em;color: #696969;}#sk-container-id-3 label.sk-toggleable__label-arrow:hover:before {color: black;}#sk-container-id-3 div.sk-estimator:hover label.sk-toggleable__label-arrow:before {color: black;}#sk-container-id-3 div.sk-toggleable__content {max-height: 0;max-width: 0;overflow: hidden;text-align: left;background-color: #f0f8ff;}#sk-container-id-3 div.sk-toggleable__content pre {margin: 0.2em;color: black;border-radius: 0.25em;background-color: #f0f8ff;}#sk-container-id-3 input.sk-toggleable__control:checked~div.sk-toggleable__content {max-height: 200px;max-width: 100%;overflow: auto;}#sk-container-id-3 input.sk-toggleable__control:checked~label.sk-toggleable__label-arrow:before {content: \"▾\";}#sk-container-id-3 div.sk-estimator input.sk-toggleable__control:checked~label.sk-toggleable__label {background-color: #d4ebff;}#sk-container-id-3 div.sk-label input.sk-toggleable__control:checked~label.sk-toggleable__label {background-color: #d4ebff;}#sk-container-id-3 input.sk-hidden--visually {border: 0;clip: rect(1px 1px 1px 1px);clip: rect(1px, 1px, 1px, 1px);height: 1px;margin: -1px;overflow: hidden;padding: 0;position: absolute;width: 1px;}#sk-container-id-3 div.sk-estimator {font-family: monospace;background-color: #f0f8ff;border: 1px dotted black;border-radius: 0.25em;box-sizing: border-box;margin-bottom: 0.5em;}#sk-container-id-3 div.sk-estimator:hover {background-color: #d4ebff;}#sk-container-id-3 div.sk-parallel-item::after {content: \"\";width: 100%;border-bottom: 1px solid gray;flex-grow: 1;}#sk-container-id-3 div.sk-label:hover label.sk-toggleable__label {background-color: #d4ebff;}#sk-container-id-3 div.sk-serial::before {content: \"\";position: absolute;border-left: 1px solid gray;box-sizing: border-box;top: 0;bottom: 0;left: 50%;z-index: 0;}#sk-container-id-3 div.sk-serial {display: flex;flex-direction: column;align-items: center;background-color: white;padding-right: 0.2em;padding-left: 0.2em;position: relative;}#sk-container-id-3 div.sk-item {position: relative;z-index: 1;}#sk-container-id-3 div.sk-parallel {display: flex;align-items: stretch;justify-content: center;background-color: white;position: relative;}#sk-container-id-3 div.sk-item::before, #sk-container-id-3 div.sk-parallel-item::before {content: \"\";position: absolute;border-left: 1px solid gray;box-sizing: border-box;top: 0;bottom: 0;left: 50%;z-index: -1;}#sk-container-id-3 div.sk-parallel-item {display: flex;flex-direction: column;z-index: 1;position: relative;background-color: white;}#sk-container-id-3 div.sk-parallel-item:first-child::after {align-self: flex-end;width: 50%;}#sk-container-id-3 div.sk-parallel-item:last-child::after {align-self: flex-start;width: 50%;}#sk-container-id-3 div.sk-parallel-item:only-child::after {width: 0;}#sk-container-id-3 div.sk-dashed-wrapped {border: 1px dashed gray;margin: 0 0.4em 0.5em 0.4em;box-sizing: border-box;padding-bottom: 0.4em;background-color: white;}#sk-container-id-3 div.sk-label label {font-family: monospace;font-weight: bold;display: inline-block;line-height: 1.2em;}#sk-container-id-3 div.sk-label-container {text-align: center;}#sk-container-id-3 div.sk-container {/* jupyter's `normalize.less` sets `[hidden] { display: none; }` but bootstrap.min.css set `[hidden] { display: none !important; }` so we also need the `!important` here to be able to override the default hidden behavior on the sphinx rendered scikit-learn.org. See: https://github.com/scikit-learn/scikit-learn/issues/21755 */display: inline-block !important;position: relative;}#sk-container-id-3 div.sk-text-repr-fallback {display: none;}</style><div id=\"sk-container-id-3\" class=\"sk-top-container\"><div class=\"sk-text-repr-fallback\"><pre>XGBClassifier(base_score=None, booster=None, callbacks=None,\n",
       "              colsample_bylevel=None, colsample_bynode=None,\n",
       "              colsample_bytree=None, device=None, early_stopping_rounds=None,\n",
       "              enable_categorical=False, eval_metric=&#x27;mlogloss&#x27;,\n",
       "              feature_types=None, gamma=None, grow_policy=None,\n",
       "              importance_type=None, interaction_constraints=None,\n",
       "              learning_rate=None, max_bin=None, max_cat_threshold=None,\n",
       "              max_cat_to_onehot=None, max_delta_step=None, max_depth=None,\n",
       "              max_leaves=None, min_child_weight=None, missing=nan,\n",
       "              monotone_constraints=None, multi_strategy=None, n_estimators=None,\n",
       "              n_jobs=None, num_parallel_tree=None, random_state=42, ...)</pre><b>In a Jupyter environment, please rerun this cell to show the HTML representation or trust the notebook. <br />On GitHub, the HTML representation is unable to render, please try loading this page with nbviewer.org.</b></div><div class=\"sk-container\" hidden><div class=\"sk-item\"><div class=\"sk-estimator sk-toggleable\"><input class=\"sk-toggleable__control sk-hidden--visually\" id=\"sk-estimator-id-3\" type=\"checkbox\" checked><label for=\"sk-estimator-id-3\" class=\"sk-toggleable__label sk-toggleable__label-arrow\">XGBClassifier</label><div class=\"sk-toggleable__content\"><pre>XGBClassifier(base_score=None, booster=None, callbacks=None,\n",
       "              colsample_bylevel=None, colsample_bynode=None,\n",
       "              colsample_bytree=None, device=None, early_stopping_rounds=None,\n",
       "              enable_categorical=False, eval_metric=&#x27;mlogloss&#x27;,\n",
       "              feature_types=None, gamma=None, grow_policy=None,\n",
       "              importance_type=None, interaction_constraints=None,\n",
       "              learning_rate=None, max_bin=None, max_cat_threshold=None,\n",
       "              max_cat_to_onehot=None, max_delta_step=None, max_depth=None,\n",
       "              max_leaves=None, min_child_weight=None, missing=nan,\n",
       "              monotone_constraints=None, multi_strategy=None, n_estimators=None,\n",
       "              n_jobs=None, num_parallel_tree=None, random_state=42, ...)</pre></div></div></div></div></div>"
      ],
      "text/plain": [
       "XGBClassifier(base_score=None, booster=None, callbacks=None,\n",
       "              colsample_bylevel=None, colsample_bynode=None,\n",
       "              colsample_bytree=None, device=None, early_stopping_rounds=None,\n",
       "              enable_categorical=False, eval_metric='mlogloss',\n",
       "              feature_types=None, gamma=None, grow_policy=None,\n",
       "              importance_type=None, interaction_constraints=None,\n",
       "              learning_rate=None, max_bin=None, max_cat_threshold=None,\n",
       "              max_cat_to_onehot=None, max_delta_step=None, max_depth=None,\n",
       "              max_leaves=None, min_child_weight=None, missing=nan,\n",
       "              monotone_constraints=None, multi_strategy=None, n_estimators=None,\n",
       "              n_jobs=None, num_parallel_tree=None, random_state=42, ...)"
      ]
     },
     "execution_count": 27,
     "metadata": {},
     "output_type": "execute_result"
    }
   ],
   "source": [
    "xgb_model = XGBClassifier(use_label_encoder=False, eval_metric='mlogloss', random_state=42)\n",
    "xgb_model"
   ]
  },
  {
   "cell_type": "code",
   "execution_count": 28,
   "id": "4325c872",
   "metadata": {
    "execution": {
     "iopub.execute_input": "2025-07-30T13:10:39.099498Z",
     "iopub.status.busy": "2025-07-30T13:10:39.098424Z",
     "iopub.status.idle": "2025-07-30T13:10:39.324977Z",
     "shell.execute_reply": "2025-07-30T13:10:39.324285Z"
    },
    "papermill": {
     "duration": 0.238542,
     "end_time": "2025-07-30T13:10:39.326704",
     "exception": false,
     "start_time": "2025-07-30T13:10:39.088162",
     "status": "completed"
    },
    "tags": []
   },
   "outputs": [],
   "source": [
    "xgb_model.fit(X_train, y_train)\n",
    "xgb_preds = xgb_model.predict(X_test)"
   ]
  },
  {
   "cell_type": "code",
   "execution_count": 29,
   "id": "2bd202bb",
   "metadata": {
    "execution": {
     "iopub.execute_input": "2025-07-30T13:10:39.347506Z",
     "iopub.status.busy": "2025-07-30T13:10:39.347180Z",
     "iopub.status.idle": "2025-07-30T13:10:39.367900Z",
     "shell.execute_reply": "2025-07-30T13:10:39.366824Z"
    },
    "papermill": {
     "duration": 0.032439,
     "end_time": "2025-07-30T13:10:39.369388",
     "exception": false,
     "start_time": "2025-07-30T13:10:39.336949",
     "status": "completed"
    },
    "tags": []
   },
   "outputs": [
    {
     "name": "stdout",
     "output_type": "stream",
     "text": [
      "XGBoost Classification Report:\n",
      "              precision    recall  f1-score   support\n",
      "\n",
      "           0       0.98      0.98      0.98      2740\n",
      "           1       0.98      0.98      0.98      2740\n",
      "\n",
      "    accuracy                           0.98      5480\n",
      "   macro avg       0.98      0.98      0.98      5480\n",
      "weighted avg       0.98      0.98      0.98      5480\n",
      "\n"
     ]
    }
   ],
   "source": [
    "print(\"XGBoost Classification Report:\")\n",
    "print(classification_report(y_test, xgb_preds))"
   ]
  },
  {
   "cell_type": "markdown",
   "id": "0fbfa92f",
   "metadata": {
    "papermill": {
     "duration": 0.009004,
     "end_time": "2025-07-30T13:10:39.387964",
     "exception": false,
     "start_time": "2025-07-30T13:10:39.378960",
     "status": "completed"
    },
    "tags": []
   },
   "source": [
    "# Saving the models"
   ]
  },
  {
   "cell_type": "code",
   "execution_count": 30,
   "id": "8202277c",
   "metadata": {
    "execution": {
     "iopub.execute_input": "2025-07-30T13:10:39.407778Z",
     "iopub.status.busy": "2025-07-30T13:10:39.407401Z",
     "iopub.status.idle": "2025-07-30T13:10:39.487723Z",
     "shell.execute_reply": "2025-07-30T13:10:39.486782Z"
    },
    "papermill": {
     "duration": 0.092022,
     "end_time": "2025-07-30T13:10:39.489229",
     "exception": false,
     "start_time": "2025-07-30T13:10:39.397207",
     "status": "completed"
    },
    "tags": []
   },
   "outputs": [
    {
     "data": {
      "text/plain": [
       "['xgboost_model.pkl']"
      ]
     },
     "execution_count": 30,
     "metadata": {},
     "output_type": "execute_result"
    }
   ],
   "source": [
    "# Save RandomForest\n",
    "joblib.dump(rf_model,'randomforest_model.pkl')\n",
    "\n",
    "# Save CatBoost\n",
    "joblib.dump(cat_model, 'catboost_model.pkl')\n",
    "\n",
    "# Save LightGBM\n",
    "joblib.dump(lgbm_model, 'lightgbm_model.pkl')\n",
    "\n",
    "# Save XGBoost\n",
    "joblib.dump(xgb_model, 'xgboost_model.pkl')\n"
   ]
  },
  {
   "cell_type": "markdown",
   "id": "553f5c0a",
   "metadata": {
    "papermill": {
     "duration": 0.009171,
     "end_time": "2025-07-30T13:10:39.508109",
     "exception": false,
     "start_time": "2025-07-30T13:10:39.498938",
     "status": "completed"
    },
    "tags": []
   },
   "source": [
    "# Final CSV File"
   ]
  },
  {
   "cell_type": "code",
   "execution_count": null,
   "id": "d2e5a80f",
   "metadata": {
    "papermill": {
     "duration": 0.009086,
     "end_time": "2025-07-30T13:10:39.526503",
     "exception": false,
     "start_time": "2025-07-30T13:10:39.517417",
     "status": "completed"
    },
    "tags": []
   },
   "outputs": [],
   "source": []
  }
 ],
 "metadata": {
  "kaggle": {
   "accelerator": "none",
   "dataSources": [
    {
     "datasetId": 7973939,
     "sourceId": 12620891,
     "sourceType": "datasetVersion"
    }
   ],
   "dockerImageVersionId": 31089,
   "isGpuEnabled": false,
   "isInternetEnabled": true,
   "language": "python",
   "sourceType": "notebook"
  },
  "kernelspec": {
   "display_name": "Python 3",
   "language": "python",
   "name": "python3"
  },
  "language_info": {
   "codemirror_mode": {
    "name": "ipython",
    "version": 3
   },
   "file_extension": ".py",
   "mimetype": "text/x-python",
   "name": "python",
   "nbconvert_exporter": "python",
   "pygments_lexer": "ipython3",
   "version": "3.11.13"
  },
  "papermill": {
   "default_parameters": {},
   "duration": 37.439336,
   "end_time": "2025-07-30T13:10:40.557272",
   "environment_variables": {},
   "exception": null,
   "input_path": "__notebook__.ipynb",
   "output_path": "__notebook__.ipynb",
   "parameters": {},
   "start_time": "2025-07-30T13:10:03.117936",
   "version": "2.6.0"
  }
 },
 "nbformat": 4,
 "nbformat_minor": 5
}
